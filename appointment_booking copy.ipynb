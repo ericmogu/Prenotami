{
 "cells": [
  {
   "cell_type": "code",
   "execution_count": 2,
   "metadata": {},
   "outputs": [],
   "source": [
    "from playwright.sync_api import sync_playwright\n",
    "import imapclient\n",
    "import pyzmail"
   ]
  },
  {
   "cell_type": "code",
   "execution_count": 3,
   "metadata": {},
   "outputs": [],
   "source": [
    "def fetch_otp_from_email():\n",
    "    with imapclient.IMAPClient('imap.gmail.com') as client:\n",
    "        client.login('your_email@example.com', 'your_password')\n",
    "        client.select_folder('INBOX')\n",
    "        messages = client.search(['UNSEEN'])\n",
    "        for msgid, data in client.fetch(messages, 'RFC822').items():\n",
    "            email_message = pyzmail.PyzMessage.factory(data[b'RFC822'])\n",
    "            if 'Your OTP' in email_message.get_subject():\n",
    "                otp_code = extract_otp_from_email(email_message.text_part.get_payload().decode('utf-8'))\n",
    "                return otp_code"
   ]
  },
  {
   "cell_type": "code",
   "execution_count": 4,
   "metadata": {},
   "outputs": [],
   "source": [
    "def extract_otp_from_email(email_content):\n",
    "    # This is a placeholder. Use regex or simple string methods to extract the OTP.\n",
    "    otp_code = email_content.strip()  # Simplistic, refine as needed\n",
    "    return otp_code"
   ]
  },
  {
   "cell_type": "code",
   "execution_count": 9,
   "metadata": {},
   "outputs": [],
   "source": [
    "def run(playwright):\n",
    "    browser = playwright.chromium.launch(headless=True)\n",
    "    page = browser.new_page()\n",
    "    page.goto('https://prenotami.esteri.it/UserArea')\n",
    "\n",
    "    # Login process\n",
    "    page.fill('#email', 'your_email@example.com')\n",
    "    page.click('#request_otp')\n",
    "\n",
    "    # Fetch OTP from email\n",
    "    otp_code = fetch_otp_from_email()\n",
    "    page.fill('#otp', otp_code)\n",
    "    page.click('#submit')\n",
    "\n",
    "    # Navigate to reservation section\n",
    "    page.click('a[href=\"/ReservationLink\"]')\n",
    "    page.click('a:has-text(\"Third Option\")')\n",
    "\n",
    "    # Check for availability\n",
    "    if page.is_visible('.no-availability-popup'):\n",
    "        print(\"No availability found.\")\n",
    "    else:\n",
    "        print(\"Availability found, selecting date.\")\n",
    "        available_date = page.query_selector('.calendar-green')\n",
    "        available_date.click()\n",
    "\n",
    "    browser.close()"
   ]
  },
  {
   "cell_type": "code",
   "execution_count": 5,
   "metadata": {},
   "outputs": [
    {
     "ename": "Error",
     "evalue": "It looks like you are using Playwright Sync API inside the asyncio loop.\nPlease use the Async API instead.",
     "output_type": "error",
     "traceback": [
      "\u001b[1;31m---------------------------------------------------------------------------\u001b[0m",
      "\u001b[1;31mError\u001b[0m                                     Traceback (most recent call last)",
      "Cell \u001b[1;32mIn[5], line 1\u001b[0m\n\u001b[1;32m----> 1\u001b[0m \u001b[38;5;28;43;01mwith\u001b[39;49;00m\u001b[43m \u001b[49m\u001b[43msync_playwright\u001b[49m\u001b[43m(\u001b[49m\u001b[43m)\u001b[49m\u001b[43m \u001b[49m\u001b[38;5;28;43;01mas\u001b[39;49;00m\u001b[43m \u001b[49m\u001b[43mplaywright\u001b[49m\u001b[43m:\u001b[49m\n\u001b[0;32m      2\u001b[0m \u001b[43m    \u001b[49m\u001b[43mrun\u001b[49m\u001b[43m(\u001b[49m\u001b[43mplaywright\u001b[49m\u001b[43m)\u001b[49m\n",
      "File \u001b[1;32mc:\\Users\\E\\AppData\\Local\\Programs\\Python\\Python312\\Lib\\site-packages\\playwright\\sync_api\\_context_manager.py:47\u001b[0m, in \u001b[0;36mPlaywrightContextManager.__enter__\u001b[1;34m(self)\u001b[0m\n\u001b[0;32m     45\u001b[0m             \u001b[38;5;28mself\u001b[39m\u001b[38;5;241m.\u001b[39m_own_loop \u001b[38;5;241m=\u001b[39m \u001b[38;5;28;01mTrue\u001b[39;00m\n\u001b[0;32m     46\u001b[0m         \u001b[38;5;28;01mif\u001b[39;00m \u001b[38;5;28mself\u001b[39m\u001b[38;5;241m.\u001b[39m_loop\u001b[38;5;241m.\u001b[39mis_running():\n\u001b[1;32m---> 47\u001b[0m             \u001b[38;5;28;01mraise\u001b[39;00m Error(\n\u001b[0;32m     48\u001b[0m \u001b[38;5;250m                \u001b[39m\u001b[38;5;124;03m\"\"\"It looks like you are using Playwright Sync API inside the asyncio loop.\u001b[39;00m\n\u001b[0;32m     49\u001b[0m \u001b[38;5;124;03mPlease use the Async API instead.\"\"\"\u001b[39;00m\n\u001b[0;32m     50\u001b[0m             )\n\u001b[0;32m     52\u001b[0m         \u001b[38;5;66;03m# Create a new fiber for the protocol dispatcher. It will be pumping events\u001b[39;00m\n\u001b[0;32m     53\u001b[0m         \u001b[38;5;66;03m# until the end of times. We will pass control to that fiber every time we\u001b[39;00m\n\u001b[0;32m     54\u001b[0m         \u001b[38;5;66;03m# block while waiting for a response.\u001b[39;00m\n\u001b[0;32m     55\u001b[0m         \u001b[38;5;28;01mdef\u001b[39;00m \u001b[38;5;21mgreenlet_main\u001b[39m() \u001b[38;5;241m-\u001b[39m\u001b[38;5;241m>\u001b[39m \u001b[38;5;28;01mNone\u001b[39;00m:\n",
      "\u001b[1;31mError\u001b[0m: It looks like you are using Playwright Sync API inside the asyncio loop.\nPlease use the Async API instead."
     ]
    }
   ],
   "source": [
    "\n",
    "with sync_playwright() as playwright:\n",
    "    run(playwright)\n"
   ]
  }
 ],
 "metadata": {
  "kernelspec": {
   "display_name": "Python 3",
   "language": "python",
   "name": "python3"
  },
  "language_info": {
   "codemirror_mode": {
    "name": "ipython",
    "version": 3
   },
   "file_extension": ".py",
   "mimetype": "text/x-python",
   "name": "python",
   "nbconvert_exporter": "python",
   "pygments_lexer": "ipython3",
   "version": "3.12.4"
  }
 },
 "nbformat": 4,
 "nbformat_minor": 2
}
